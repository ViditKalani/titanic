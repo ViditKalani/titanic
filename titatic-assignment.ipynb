{
 "cells": [
  {
   "cell_type": "markdown",
   "metadata": {},
   "source": [
    "## Please refer to my fancy solution here: \n",
    "<a href='https://github.com/xtutran/titanic/blob/master/titanic-kanggle-0.81.ipynb'>Titanic (Kanggle: 0.80861)</a>"
   ]
  },
  {
   "cell_type": "markdown",
   "metadata": {},
   "source": [
    "# Titanic Problem\n",
    "The sinking of the RMS Titanic is one of the most infamous shipwrecks in history.  On April 15, 1912, during her maiden voyage, the Titanic sank after colliding with an iceberg, killing 1502 out of 2224 passengers and crew. This sensational tragedy shocked the international community and led to better safety regulations for ships.\n",
    "\n",
    "One of the reasons that the shipwreck led to such loss of life was that there were not enough lifeboats for the passengers and crew. Although there was some element of luck involved in surviving the sinking, some groups of people were more likely to survive than others, such as women, children, and the upper-class.\n",
    "\n",
    "In this exercise, we ask you to complete the analysis of what sorts of people were likely to survive. In particular, we ask you to apply the tools of machine learning to predict which passengers survived the tragedy.\n"
   ]
  },
  {
   "cell_type": "markdown",
   "metadata": {},
   "source": [
    "# Data Description\n",
    " - survival        Survival(0 = No; 1 = Yes)\n",
    " - pclass          Passenger Class(1 = 1st; 2 = 2nd; 3 = 3rd)\n",
    " - name            Name\n",
    " - sex             Sex\n",
    " - age             Age\n",
    " - sibsp           Number of Siblings/Spouses Aboard\n",
    " - parch           Number of Parents/Children Aboard\n",
    " - ticket          Ticket Number\n",
    " - fare            Passenger Fare\n",
    " - cabin           Cabin\n",
    " - embarked        Port of Embarkation(C = Cherbourg; Q = Queenstown; S = Southampton)"
   ]
  },
  {
   "cell_type": "markdown",
   "metadata": {},
   "source": [
    "# Problem Statement\n",
    "Based on problem description, I decided to treat this as a classification problem by trying to predict the value of <b>Survived</b> variable for each instance.\n",
    "\n",
    "In order to finish this task and create a model to predict who survived or died? I will use following libraries:\n",
    "- NumPy\n",
    "- IPython\n",
    "- Pandas\n",
    "- SciKit-Learn\n",
    "- SciPy\n",
    "- StatsModels\n",
    "- Patsy\n",
    "- Matplotlib\n"
   ]
  }
 ],
 "metadata": {
  "celltoolbar": "Raw Cell Format",
  "kernelspec": {
   "display_name": "Python 2",
   "language": "python",
   "name": "python2"
  },
  "language_info": {
   "codemirror_mode": {
    "name": "ipython",
    "version": 2
   },
   "file_extension": ".py",
   "mimetype": "text/x-python",
   "name": "python",
   "nbconvert_exporter": "python",
   "pygments_lexer": "ipython2",
   "version": "2.7.13"
  }
 },
 "nbformat": 4,
 "nbformat_minor": 0
}
